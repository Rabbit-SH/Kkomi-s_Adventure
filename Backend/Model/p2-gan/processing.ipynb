{
 "cells": [
  {
   "cell_type": "markdown",
   "id": "5205b011",
   "metadata": {},
   "source": [
    "# Median Filter"
   ]
  },
  {
   "cell_type": "code",
   "execution_count": 102,
   "id": "aa821bc1",
   "metadata": {},
   "outputs": [],
   "source": [
    "from PIL import Image, ImageFilter\n",
    "import numpy as np\n",
    "\n",
    "# 이미지 열기\n",
    "image = Image.open(\"./content/21.jpg\")\n",
    "\n",
    "# 이미지를 NumPy 배열로 변환\n",
    "image_array = np.array(image)\n",
    "\n",
    "# 미디안 필터 적용 함수 정의\n",
    "def median_filter(image_array, kernel_size=3):\n",
    "    filtered_image = np.zeros_like(image_array)\n",
    "    pad = kernel_size // 2\n",
    "\n",
    "    for y in range(pad, image_array.shape[0] - pad):\n",
    "        for x in range(pad, image_array.shape[1] - pad):\n",
    "            window = image_array[y - pad:y + pad + 1, x - pad:x + pad + 1]\n",
    "            filtered_image[y, x] = np.median(window)\n",
    "\n",
    "    return filtered_image\n",
    "\n",
    "# 미디안 필터 적용\n",
    "filtered_image_array = median_filter(image_array, kernel_size=5)\n",
    "\n",
    "# NumPy 배열을 이미지로 변환\n",
    "filtered_image = Image.fromarray(filtered_image_array)\n",
    "\n",
    "# 결과 이미지 저장\n",
    "filtered_image.save(\"./processing/filtered_image.jpg\")\n",
    "\n",
    "# 필터 적용된 이미지 보기\n",
    "filtered_image.show()"
   ]
  },
  {
   "cell_type": "markdown",
   "id": "642797da",
   "metadata": {},
   "source": [
    "# canny edge (윤곽선)"
   ]
  },
  {
   "cell_type": "code",
   "execution_count": 128,
   "id": "929f2a26",
   "metadata": {},
   "outputs": [
    {
     "data": {
      "text/plain": [
       "True"
      ]
     },
     "execution_count": 128,
     "metadata": {},
     "output_type": "execute_result"
    }
   ],
   "source": [
    "import cv2\n",
    "\n",
    "# 이미지를 로드합니다.\n",
    "image = cv2.imread('./processing/stylized_1024.jpg')\n",
    "\n",
    "# 이미지를 그레이스케일로 변환합니다.\n",
    "gray = cv2.cvtColor(image, cv2.COLOR_BGR2GRAY)\n",
    "\n",
    "# Canny 에지 검출을 수행합니다.\n",
    "edges = cv2.Canny(gray, 0,50)  # 임계값을 조정할 수 있습니다.\n",
    "\n",
    "# 에지를 강조하는 이미지를 생성합니다.\n",
    "edge_highlighted = cv2.cvtColor(edges, cv2.COLOR_GRAY2BGR)\n",
    "\n",
    "# 결과 이미지를 저장합니다.\n",
    "cv2.imwrite('./processing/edge_highlighted_image.jpg', edge_highlighted)\n"
   ]
  },
  {
   "cell_type": "code",
   "execution_count": 70,
   "id": "065d3ff5",
   "metadata": {},
   "outputs": [
    {
     "data": {
      "text/plain": [
       "True"
      ]
     },
     "execution_count": 70,
     "metadata": {},
     "output_type": "execute_result"
    }
   ],
   "source": [
    "import cv2\n",
    "import numpy as np\n",
    "\n",
    "# 이미지를 로드합니다.\n",
    "image = cv2.imread('./content/21.jpg')\n",
    "\n",
    "# 이미지를 그레이스케일로 변환합니다.\n",
    "gray = cv2.cvtColor(image, cv2.COLOR_BGR2GRAY)\n",
    "\n",
    "# 이미지를 이진화합니다.\n",
    "_, binary = cv2.threshold(gray, 128, 255, cv2.THRESH_BINARY)\n",
    "\n",
    "# 팽창을 수행합니다.\n",
    "kernel = np.ones((4, 4), np.uint8)\n",
    "thickened_lines = cv2.dilate(binary, kernel, iterations=1)\n",
    "\n",
    "# 결과 이미지를 저장합니다.\n",
    "cv2.imwrite('./processing/thickened_lines_image.jpg', thickened_lines)\n"
   ]
  },
  {
   "cell_type": "markdown",
   "id": "3719d6e8",
   "metadata": {},
   "source": [
    "# DIlation (팽창) \n",
    "\n",
    "선을 두껍게 만들고 싶은데 답 안나오네 얇은것만 안되나"
   ]
  },
  {
   "cell_type": "code",
   "execution_count": 122,
   "id": "c1be331b",
   "metadata": {},
   "outputs": [
    {
     "data": {
      "text/plain": [
       "True"
      ]
     },
     "execution_count": 122,
     "metadata": {},
     "output_type": "execute_result"
    }
   ],
   "source": [
    "import cv2\n",
    "import numpy as np\n",
    "\n",
    "# 흑백 이미지를 로드합니다.\n",
    "image = cv2.imread('./processing/filtered_image.jpg', cv2.IMREAD_GRAYSCALE)\n",
    "\n",
    "# 팽창을 수행합니다.\n",
    "kernel = np.ones((2,2), np.uint8)\n",
    "thickened_lines = cv2.dilate(image, kernel, iterations=1)\n",
    "\n",
    "# 결과 이미지를 저장합니다.\n",
    "cv2.imwrite('./processing/thickened_lines2_image.jpg', thickened_lines)\n"
   ]
  },
  {
   "cell_type": "code",
   "execution_count": 104,
   "id": "c4104b44",
   "metadata": {},
   "outputs": [
    {
     "data": {
      "text/plain": [
       "True"
      ]
     },
     "execution_count": 104,
     "metadata": {},
     "output_type": "execute_result"
    }
   ],
   "source": [
    "import cv2\n",
    "import numpy as np\n",
    "\n",
    "# 흑백 이미지를 로드합니다.\n",
    "image = cv2.imread('./processing/filtered_image.jpg', cv2.IMREAD_GRAYSCALE)\n",
    "\n",
    "# 팽창을 수행합니다.\n",
    "kernel = np.ones((5, 5), np.uint8)\n",
    "thickened_lines = cv2.dilate(image, kernel, iterations=1)\n",
    "\n",
    "# 결과 이미지를 저장합니다.\n",
    "cv2.imwrite('./processing/thickened_lines5_image.jpg', thickened_lines)\n"
   ]
  },
  {
   "cell_type": "markdown",
   "id": "59b98038",
   "metadata": {},
   "source": [
    "# 밝기 변환  (입력 이미지 밝기 변환은 p2-gan 에서는 의미 없는듯)"
   ]
  },
  {
   "cell_type": "code",
   "execution_count": 121,
   "id": "0a602def",
   "metadata": {},
   "outputs": [
    {
     "name": "stdout",
     "output_type": "stream",
     "text": [
      "Darkened image saved as 'darkened_image.jpg'.\n"
     ]
    }
   ],
   "source": [
    "import cv2\n",
    "import numpy as np\n",
    "\n",
    "# 이미지를 로드합니다.\n",
    "image = cv2.imread('./processing/thickened_lines3_image.jpg')\n",
    "\n",
    "# 전체 밝기 감소\n",
    "# 밝기 범위를 조정합니다. 음수 값으로 설정하여 어둡게 만듭니다.\n",
    "brightness_range = -100  # 원하는 밝기 범위 값\n",
    "\n",
    "# 이미지의 밝기 조정      (255 가 밝은 부분)\n",
    "adjusted_image = np.where((image + brightness_range) < 0, 0, image + brightness_range)\n",
    "\n",
    "# 결과 이미지를 저장합니다.\n",
    "cv2.imwrite('./processing/darkened3_image.jpg', adjusted_image)\n",
    "\n",
    "# 결과 이미지를 파일로 저장한 후 확인합니다.\n",
    "print(\"Darkened image saved as 'darkened_image.jpg'.\")\n"
   ]
  },
  {
   "cell_type": "code",
   "execution_count": 129,
   "id": "2c86072c",
   "metadata": {},
   "outputs": [
    {
     "name": "stdout",
     "output_type": "stream",
     "text": [
      "Darkened image saved as 'darkened_image.jpg'.\n"
     ]
    }
   ],
   "source": [
    "import cv2\n",
    "import numpy as np\n",
    "\n",
    "# 이미지를 로드합니다.\n",
    "image = cv2.imread('./content/22.jpg')\n",
    "\n",
    "# 전체 밝기 감소\n",
    "# 밝기 범위를 조정합니다. 음수 값으로 설정하여 어둡게 만듭니다.\n",
    "brightness_range = -80  # 원하는 밝기 범위 값\n",
    "\n",
    "# 이미지의 밝기 조정      (255 가 밝은 부분)\n",
    "adjusted_image = np.where((image + brightness_range) < 0, 0, image + brightness_range)\n",
    "\n",
    "# 결과 이미지를 저장합니다.\n",
    "cv2.imwrite('./processing/darkened22_image.jpg', adjusted_image)\n",
    "\n",
    "# 결과 이미지를 파일로 저장한 후 확인합니다.\n",
    "print(\"Darkened image saved as 'darkened_image.jpg'.\")\n"
   ]
  },
  {
   "cell_type": "code",
   "execution_count": null,
   "id": "1d2db8f8",
   "metadata": {},
   "outputs": [],
   "source": []
  },
  {
   "cell_type": "code",
   "execution_count": null,
   "id": "33c36ac4",
   "metadata": {},
   "outputs": [],
   "source": [
    "# 패스트 - 클러스터"
   ]
  },
  {
   "cell_type": "code",
   "execution_count": null,
   "id": "2ab34faf",
   "metadata": {},
   "outputs": [],
   "source": []
  }
 ],
 "metadata": {
  "kernelspec": {
   "display_name": "cv",
   "language": "python",
   "name": "cv"
  },
  "language_info": {
   "codemirror_mode": {
    "name": "ipython",
    "version": 3
   },
   "file_extension": ".py",
   "mimetype": "text/x-python",
   "name": "python",
   "nbconvert_exporter": "python",
   "pygments_lexer": "ipython3",
   "version": "3.8.18"
  }
 },
 "nbformat": 4,
 "nbformat_minor": 5
}
