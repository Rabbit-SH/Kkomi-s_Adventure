{
 "cells": [
  {
   "cell_type": "code",
   "execution_count": 8,
   "id": "30d4a958",
   "metadata": {},
   "outputs": [
    {
     "ename": "AttributeError",
     "evalue": "'numpy.ndarray' object has no attribute 'save'",
     "output_type": "error",
     "traceback": [
      "\u001b[1;31m---------------------------------------------------------------------------\u001b[0m",
      "\u001b[1;31mAttributeError\u001b[0m                            Traceback (most recent call last)",
      "Cell \u001b[1;32mIn[8], line 40\u001b[0m\n\u001b[0;32m     37\u001b[0m shift_image\u001b[38;5;241m=\u001b[39m mean_shift_segmentation(image)\n\u001b[0;32m     39\u001b[0m \u001b[38;5;66;03m# 결과 이미지 저장\u001b[39;00m\n\u001b[1;32m---> 40\u001b[0m shift_image\u001b[38;5;241m.\u001b[39msave(image,\u001b[38;5;124m\"\u001b[39m\u001b[38;5;124mcolor-segmentation.jpg\u001b[39m\u001b[38;5;124m\"\u001b[39m)\n",
      "\u001b[1;31mAttributeError\u001b[0m: 'numpy.ndarray' object has no attribute 'save'"
     ]
    }
   ],
   "source": [
    "import numpy as np\n",
    "import matplotlib.pyplot as plt\n",
    "from sklearn.cluster import MeanShift, estimate_bandwidth\n",
    "from skimage import io  # 이미지 로딩을 위한 라이브러리\n",
    "\n",
    "def mean_shift_segmentation(image):\n",
    "    # 이미지 로드\n",
    "    image = np.array(image)  # 이미지를 NumPy 배열로 변환\n",
    "    original_shape = image.shape\n",
    "\n",
    "    # 이미지를 (n_samples, n_features) 형태의 2D 배열로 변환\n",
    "    flat_image = np.reshape(image, [-1, 3])\n",
    "\n",
    "    # Mean Shift를 위한 대역폭(bandwidth) 추정\n",
    "    # quantile : 데이터 포인터 간 거리 기반으로 추정, 클러스터 생성 방법 (0.1 ~ 0.3)\n",
    "    # n_samples : 대역폭 추정에 사용되는 샘플 데이터 포인트의 수 지정 (100 ~ 1000)\n",
    "    bandwidth = estimate_bandwidth(flat_image, quantile=0.1, n_samples=100)\n",
    "\n",
    "    # Mean Shift 알고리즘 적용\n",
    "    ms = MeanShift(bandwidth=bandwidth, bin_seeding=True)\n",
    "    ms.fit(flat_image)\n",
    "\n",
    "    # 각 픽셀에 대해 클러스터 중심을 할당\n",
    "    segmented_image = ms.cluster_centers_[ms.labels_]\n",
    "\n",
    "    # 원래 이미지 형태로 재구성\n",
    "    segmented_image = segmented_image.reshape(original_shape).astype(np.uint8)\n",
    "\n",
    "    return segmented_image\n",
    "\n",
    "\n",
    "# 이미지 로드\n",
    "image_path = \"C:/Users/User/Documents/GitHub/Kkomi-s_Adventure/Backend/Model/stable-diffusion-main/image/test(5).jpg\"\n",
    "image = io.imread(image_path)\n",
    "\n",
    "# Mean Shift 세분화 수행\n",
    "shift_image = mean_shift_segmentation(image)\n",
    "\n",
    "# 결과 이미지 저장\n",
    "plt.imsave(\"color-segmentation.jpg\", shift_image)\n"
   ]
  },
  {
   "cell_type": "code",
   "execution_count": null,
   "id": "b6f087b5",
   "metadata": {},
   "outputs": [],
   "source": []
  }
 ],
 "metadata": {
  "kernelspec": {
   "display_name": "Python 3 (ipykernel)",
   "language": "python",
   "name": "python3"
  },
  "language_info": {
   "codemirror_mode": {
    "name": "ipython",
    "version": 3
   },
   "file_extension": ".py",
   "mimetype": "text/x-python",
   "name": "python",
   "nbconvert_exporter": "python",
   "pygments_lexer": "ipython3",
   "version": "3.11.4"
  }
 },
 "nbformat": 4,
 "nbformat_minor": 5
}
